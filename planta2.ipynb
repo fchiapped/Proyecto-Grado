{
 "cells": [
  {
   "cell_type": "code",
   "execution_count": 3,
   "id": "991b8bea",
   "metadata": {},
   "outputs": [],
   "source": [
    "import pandas as pd\n",
    "import matplotlib.pyplot as plt\n",
    "import os"
   ]
  },
  {
   "cell_type": "code",
   "execution_count": 5,
   "id": "4eab7f4c",
   "metadata": {},
   "outputs": [
    {
     "name": "stdout",
     "output_type": "stream",
     "text": [
      "<class 'pandas.core.frame.DataFrame'>\n",
      "RangeIndex: 440471 entries, 0 to 440470\n",
      "Data columns (total 15 columns):\n",
      " #   Column                                          Non-Null Count   Dtype  \n",
      "---  ------                                          --------------   -----  \n",
      " 0   date_time                                       440471 non-null  object \n",
      " 1   Flujo Cámara de contacto 1                      413476 non-null  float64\n",
      " 2   Flujo Salida de Lodo Sedimentador Secundario 3  320223 non-null  float64\n",
      " 3   Flujo Aire Reactor 2                            369901 non-null  float64\n",
      " 4   test                                            3 non-null       float64\n",
      " 5   Nivel Pozo WAS                                  320190 non-null  float64\n",
      " 6   OD Reactor 2                                    115736 non-null  float64\n",
      " 7   Flujo Afluente PTAR                             423581 non-null  float64\n",
      " 8   Flujo Alimentación Digestor 1                   195755 non-null  float64\n",
      " 9   Flujo Alimentación Digestor 2                   182100 non-null  float64\n",
      " 10  Flujo Alimentación Digestor 3                   301633 non-null  float64\n",
      " 11  Flujo Aire Reactor 1                            68814 non-null   float64\n",
      " 12  Flujo Aire Reactor 3                            320052 non-null  float64\n",
      " 13  OD Reactor 1                                    121056 non-null  float64\n",
      " 14  Flujo Cámara de contacto 2                      413563 non-null  float64\n",
      "dtypes: float64(14), object(1)\n",
      "memory usage: 50.4+ MB\n"
     ]
    }
   ],
   "source": [
    "planta_2 = os.path.join('Proyecto Herramienta para monitoreo de la calidad de datos', '2. Datos', 'planta_2', 'planta_2_datos.csv')\n",
    "df_planta_2 = pd.read_csv(planta_2)\n",
    "df_planta_2.info()"
   ]
  }
 ],
 "metadata": {
  "kernelspec": {
   "display_name": "Python 3",
   "language": "python",
   "name": "python3"
  },
  "language_info": {
   "codemirror_mode": {
    "name": "ipython",
    "version": 3
   },
   "file_extension": ".py",
   "mimetype": "text/x-python",
   "name": "python",
   "nbconvert_exporter": "python",
   "pygments_lexer": "ipython3",
   "version": "3.13.3"
  }
 },
 "nbformat": 4,
 "nbformat_minor": 5
}
