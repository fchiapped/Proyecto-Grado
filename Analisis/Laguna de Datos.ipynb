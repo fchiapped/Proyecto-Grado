{
 "cells": [
  {
   "cell_type": "markdown",
   "id": "1d40d464",
   "metadata": {},
   "source": [
    "# Imports"
   ]
  },
  {
   "cell_type": "code",
   "execution_count": null,
   "id": "34f09513",
   "metadata": {},
   "outputs": [],
   "source": [
    "import pandas as pd\n",
    "import numpy as np\n",
    "import funciones_analisis as funciones"
   ]
  },
  {
   "cell_type": "markdown",
   "id": "4bf6b808",
   "metadata": {},
   "source": [
    "# Lectura Archivos"
   ]
  },
  {
   "cell_type": "code",
   "execution_count": null,
   "id": "7254239a",
   "metadata": {},
   "outputs": [],
   "source": [
    "# Leer los tres dataframes procesados desde la carpeta 'df_procesados'\n",
    "df_planta_1 = pd.read_csv('../df_procesados/df_planta_1.csv')\n",
    "df_planta_2 = pd.read_csv('../df_procesados/df_planta_2.csv')\n",
    "df_planta_3 = pd.read_csv('../df_procesados/df_planta_3.csv')"
   ]
  },
  {
   "cell_type": "code",
   "execution_count": 6,
   "id": "46507233",
   "metadata": {},
   "outputs": [],
   "source": [
    "df_planta_1['date_time'] = pd.to_datetime(df_planta_1['date_time'])\n",
    "df_planta_2['date_time'] = pd.to_datetime(df_planta_2['date_time'])\n",
    "df_planta_3['date_time'] = pd.to_datetime(df_planta_3['date_time'])"
   ]
  },
  {
   "cell_type": "markdown",
   "id": "ce5d2f3a",
   "metadata": {},
   "source": [
    "# Planta 1"
   ]
  },
  {
   "cell_type": "code",
   "execution_count": 7,
   "id": "bdee2a91",
   "metadata": {},
   "outputs": [
    {
     "data": {
      "text/html": [
       "<div>\n",
       "<style scoped>\n",
       "    .dataframe tbody tr th:only-of-type {\n",
       "        vertical-align: middle;\n",
       "    }\n",
       "\n",
       "    .dataframe tbody tr th {\n",
       "        vertical-align: top;\n",
       "    }\n",
       "\n",
       "    .dataframe thead th {\n",
       "        text-align: right;\n",
       "    }\n",
       "</style>\n",
       "<table border=\"1\" class=\"dataframe\">\n",
       "  <thead>\n",
       "    <tr style=\"text-align: right;\">\n",
       "      <th></th>\n",
       "      <th>columna</th>\n",
       "      <th>promedio_minutos</th>\n",
       "      <th>std_minutos</th>\n",
       "      <th>maximo_minutos</th>\n",
       "    </tr>\n",
       "  </thead>\n",
       "  <tbody>\n",
       "    <tr>\n",
       "      <th>0</th>\n",
       "      <td>Conductividad DAF</td>\n",
       "      <td>1.417826</td>\n",
       "      <td>74.418214</td>\n",
       "      <td>20510.0</td>\n",
       "    </tr>\n",
       "    <tr>\n",
       "      <th>1</th>\n",
       "      <td>Flujo Parshall 01 entrada a Ecualizador 1</td>\n",
       "      <td>1.389960</td>\n",
       "      <td>73.989870</td>\n",
       "      <td>20510.0</td>\n",
       "    </tr>\n",
       "    <tr>\n",
       "      <th>2</th>\n",
       "      <td>Flujo de envío a DAF</td>\n",
       "      <td>1.389914</td>\n",
       "      <td>73.988966</td>\n",
       "      <td>20510.0</td>\n",
       "    </tr>\n",
       "    <tr>\n",
       "      <th>3</th>\n",
       "      <td>Nivel Ecualizador 1 (Tk 30m3)</td>\n",
       "      <td>1.389829</td>\n",
       "      <td>73.986710</td>\n",
       "      <td>20510.0</td>\n",
       "    </tr>\n",
       "    <tr>\n",
       "      <th>4</th>\n",
       "      <td>Nivel Ecualizador 2 (Tk 250m3)</td>\n",
       "      <td>1.389761</td>\n",
       "      <td>73.984906</td>\n",
       "      <td>20510.0</td>\n",
       "    </tr>\n",
       "  </tbody>\n",
       "</table>\n",
       "</div>"
      ],
      "text/plain": [
       "                                     columna  promedio_minutos  std_minutos  \\\n",
       "0                          Conductividad DAF          1.417826    74.418214   \n",
       "1  Flujo Parshall 01 entrada a Ecualizador 1          1.389960    73.989870   \n",
       "2                       Flujo de envío a DAF          1.389914    73.988966   \n",
       "3              Nivel Ecualizador 1 (Tk 30m3)          1.389829    73.986710   \n",
       "4             Nivel Ecualizador 2 (Tk 250m3)          1.389761    73.984906   \n",
       "\n",
       "   maximo_minutos  \n",
       "0         20510.0  \n",
       "1         20510.0  \n",
       "2         20510.0  \n",
       "3         20510.0  \n",
       "4         20510.0  "
      ]
     },
     "execution_count": 7,
     "metadata": {},
     "output_type": "execute_result"
    }
   ],
   "source": [
    "num_cols = df_planta_1.select_dtypes(include=[np.number]).columns\n",
    "l_periodo = []\n",
    "\n",
    "for col in num_cols:\n",
    "    \n",
    "    data = funciones.periocidad_data(df_planta_1, col)\n",
    "\n",
    "    l_periodo.append({\n",
    "                \"columna\": col,\n",
    "                \"promedio_minutos\": data[\"promedio_minutos\"],\n",
    "                \"std_minutos\": data[\"std_minutos\"],\n",
    "                \"maximo_minutos\": data[\"maximo\"]\n",
    "            })\n",
    "    \n",
    "df_periodo = pd.DataFrame(l_periodo)\n",
    "\n",
    "df_periodo.head()"
   ]
  },
  {
   "cell_type": "markdown",
   "id": "8e2c5ee5",
   "metadata": {},
   "source": [
    "# Planta 2"
   ]
  },
  {
   "cell_type": "code",
   "execution_count": 8,
   "id": "a98c264e",
   "metadata": {},
   "outputs": [
    {
     "data": {
      "text/html": [
       "<div>\n",
       "<style scoped>\n",
       "    .dataframe tbody tr th:only-of-type {\n",
       "        vertical-align: middle;\n",
       "    }\n",
       "\n",
       "    .dataframe tbody tr th {\n",
       "        vertical-align: top;\n",
       "    }\n",
       "\n",
       "    .dataframe thead th {\n",
       "        text-align: right;\n",
       "    }\n",
       "</style>\n",
       "<table border=\"1\" class=\"dataframe\">\n",
       "  <thead>\n",
       "    <tr style=\"text-align: right;\">\n",
       "      <th></th>\n",
       "      <th>columna</th>\n",
       "      <th>promedio_minutos</th>\n",
       "      <th>std_minutos</th>\n",
       "      <th>maximo_minutos</th>\n",
       "    </tr>\n",
       "  </thead>\n",
       "  <tbody>\n",
       "    <tr>\n",
       "      <th>0</th>\n",
       "      <td>Flujo Cámara de contacto 1</td>\n",
       "      <td>1.261726</td>\n",
       "      <td>28.381092</td>\n",
       "      <td>14230.0</td>\n",
       "    </tr>\n",
       "    <tr>\n",
       "      <th>1</th>\n",
       "      <td>Flujo Salida de Lodo Sedimentador Secundario 3</td>\n",
       "      <td>1.629157</td>\n",
       "      <td>178.727134</td>\n",
       "      <td>99603.0</td>\n",
       "    </tr>\n",
       "    <tr>\n",
       "      <th>2</th>\n",
       "      <td>Flujo Aire Reactor 2</td>\n",
       "      <td>1.410360</td>\n",
       "      <td>29.962937</td>\n",
       "      <td>14229.0</td>\n",
       "    </tr>\n",
       "    <tr>\n",
       "      <th>3</th>\n",
       "      <td>Nivel Pozo WAS</td>\n",
       "      <td>1.629325</td>\n",
       "      <td>178.373773</td>\n",
       "      <td>99389.0</td>\n",
       "    </tr>\n",
       "    <tr>\n",
       "      <th>4</th>\n",
       "      <td>Flujo Afluente PTAR</td>\n",
       "      <td>1.231626</td>\n",
       "      <td>27.051241</td>\n",
       "      <td>14230.0</td>\n",
       "    </tr>\n",
       "  </tbody>\n",
       "</table>\n",
       "</div>"
      ],
      "text/plain": [
       "                                          columna  promedio_minutos  \\\n",
       "0                      Flujo Cámara de contacto 1          1.261726   \n",
       "1  Flujo Salida de Lodo Sedimentador Secundario 3          1.629157   \n",
       "2                            Flujo Aire Reactor 2          1.410360   \n",
       "3                                  Nivel Pozo WAS          1.629325   \n",
       "4                             Flujo Afluente PTAR          1.231626   \n",
       "\n",
       "   std_minutos  maximo_minutos  \n",
       "0    28.381092         14230.0  \n",
       "1   178.727134         99603.0  \n",
       "2    29.962937         14229.0  \n",
       "3   178.373773         99389.0  \n",
       "4    27.051241         14230.0  "
      ]
     },
     "execution_count": 8,
     "metadata": {},
     "output_type": "execute_result"
    }
   ],
   "source": [
    "num_cols = df_planta_2.select_dtypes(include=[np.number]).columns\n",
    "l_periodo = []\n",
    "\n",
    "for col in num_cols:\n",
    "    \n",
    "    data = funciones.periocidad_data(df_planta_2, col)\n",
    "\n",
    "    l_periodo.append({\n",
    "                \"columna\": col,\n",
    "                \"promedio_minutos\": data[\"promedio_minutos\"],\n",
    "                \"std_minutos\": data[\"std_minutos\"],\n",
    "                \"maximo_minutos\": data[\"maximo\"]\n",
    "            })\n",
    "    \n",
    "df_periodo = pd.DataFrame(l_periodo)\n",
    "\n",
    "df_periodo.head()"
   ]
  },
  {
   "cell_type": "markdown",
   "id": "41fd081e",
   "metadata": {},
   "source": [
    "# Planta 3"
   ]
  },
  {
   "cell_type": "code",
   "execution_count": null,
   "id": "db99c1e1",
   "metadata": {},
   "outputs": [
    {
     "data": {
      "text/html": [
       "<div>\n",
       "<style scoped>\n",
       "    .dataframe tbody tr th:only-of-type {\n",
       "        vertical-align: middle;\n",
       "    }\n",
       "\n",
       "    .dataframe tbody tr th {\n",
       "        vertical-align: top;\n",
       "    }\n",
       "\n",
       "    .dataframe thead th {\n",
       "        text-align: right;\n",
       "    }\n",
       "</style>\n",
       "<table border=\"1\" class=\"dataframe\">\n",
       "  <thead>\n",
       "    <tr style=\"text-align: right;\">\n",
       "      <th></th>\n",
       "      <th>columna</th>\n",
       "      <th>promedio_minutos</th>\n",
       "      <th>std_minutos</th>\n",
       "      <th>maximo_minutos</th>\n",
       "    </tr>\n",
       "  </thead>\n",
       "  <tbody>\n",
       "    <tr>\n",
       "      <th>0</th>\n",
       "      <td>Nivel pozo</td>\n",
       "      <td>1.022769</td>\n",
       "      <td>2.111191</td>\n",
       "      <td>270.0</td>\n",
       "    </tr>\n",
       "    <tr>\n",
       "      <th>1</th>\n",
       "      <td>Energía Total Activa Bombas Elevadoras</td>\n",
       "      <td>1.029532</td>\n",
       "      <td>2.354087</td>\n",
       "      <td>270.0</td>\n",
       "    </tr>\n",
       "    <tr>\n",
       "      <th>2</th>\n",
       "      <td>Presión pozo</td>\n",
       "      <td>1.029530</td>\n",
       "      <td>2.354035</td>\n",
       "      <td>270.0</td>\n",
       "    </tr>\n",
       "  </tbody>\n",
       "</table>\n",
       "</div>"
      ],
      "text/plain": [
       "                                  columna  promedio_minutos  std_minutos  \\\n",
       "0                              Nivel pozo          1.022769     2.111191   \n",
       "1  Energía Total Activa Bombas Elevadoras          1.029532     2.354087   \n",
       "2                            Presión pozo          1.029530     2.354035   \n",
       "\n",
       "   maximo_minutos  \n",
       "0           270.0  \n",
       "1           270.0  \n",
       "2           270.0  "
      ]
     },
     "execution_count": 9,
     "metadata": {},
     "output_type": "execute_result"
    }
   ],
   "source": [
    "num_cols = df_planta_3.select_dtypes(include=[np.number]).columns\n",
    "l_periodo = []\n",
    "\n",
    "for col in num_cols:\n",
    "    \n",
    "    data = funciones.periocidad_data(df_planta_3, col)\n",
    "\n",
    "    l_periodo.append({\n",
    "                \"columna\": col,\n",
    "                \"promedio_minutos\": data[\"promedio_minutos\"],\n",
    "                \"std_minutos\": data[\"std_minutos\"],\n",
    "                \"maximo_minutos\": data[\"maximo\"]\n",
    "            })\n",
    "    \n",
    "df_periodo = pd.DataFrame(l_periodo)\n",
    "\n",
    "df_periodo.head()"
   ]
  }
 ],
 "metadata": {
  "kernelspec": {
   "display_name": "Python 3",
   "language": "python",
   "name": "python3"
  },
  "language_info": {
   "codemirror_mode": {
    "name": "ipython",
    "version": 3
   },
   "file_extension": ".py",
   "mimetype": "text/x-python",
   "name": "python",
   "nbconvert_exporter": "python",
   "pygments_lexer": "ipython3",
   "version": "3.13.3"
  }
 },
 "nbformat": 4,
 "nbformat_minor": 5
}
