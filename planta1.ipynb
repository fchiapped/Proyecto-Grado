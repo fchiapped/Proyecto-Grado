{
 "cells": [
  {
   "cell_type": "code",
   "execution_count": 2,
   "id": "6b0b06d7",
   "metadata": {},
   "outputs": [],
   "source": [
    "import pandas as pd\n",
    "import matplotlib.pyplot as plt\n",
    "import os"
   ]
  },
  {
   "cell_type": "code",
   "execution_count": 3,
   "id": "3a60c23d",
   "metadata": {},
   "outputs": [
    {
     "name": "stdout",
     "output_type": "stream",
     "text": [
      "<class 'pandas.core.frame.DataFrame'>\n",
      "RangeIndex: 82380 entries, 0 to 82379\n",
      "Data columns (total 28 columns):\n",
      " #   Column                                     Non-Null Count  Dtype  \n",
      "---  ------                                     --------------  -----  \n",
      " 0   date_time                                  82380 non-null  object \n",
      " 1   Conductividad                              0 non-null      float64\n",
      " 2   Conductividad DAF                          81992 non-null  float64\n",
      " 3   Fecha                                      0 non-null      float64\n",
      " 4   Flujo Parshall 01 entrada a Ecualizador 1  81994 non-null  float64\n",
      " 5   Flujo de envío a DAF                       81996 non-null  float64\n",
      " 6   Hora                                       0 non-null      float64\n",
      " 7   Nivel Ecualizador 1 (Tk 30m3)              82001 non-null  float64\n",
      " 8   Nivel Ecualizador 2 (Tk 250m3)             82005 non-null  float64\n",
      " 9   PH Coagulación                             94 non-null     float64\n",
      " 10  Temperatura DAF                            82007 non-null  float64\n",
      " 11  pH Clarificado DAF (Tk 80m3)               82007 non-null  float64\n",
      " 12  pH Clarificado DAF (Tk 80m3).1             0 non-null      float64\n",
      " 13  pH Ecualizador 2 (Tk 250m3)                67566 non-null  float64\n",
      " 14  pH clarificado DAF                         0 non-null      float64\n",
      " 15  pH coagulación entrada DAF                 82011 non-null  float64\n",
      " 16  pH coagulación DAF                         0 non-null      float64\n",
      " 17  pH de salida a Parshall 02                 0 non-null      float64\n",
      " 18  pH entrada a Ecualizador 2 (Tk 250m3)      82009 non-null  float64\n",
      " 19  pH salida a Parshall 02                    82009 non-null  float64\n",
      " 20  pH salida a Parshall 02.1                  0 non-null      float64\n",
      " 21  Nivel Clarificado DAF (Tk 80m3)            82012 non-null  float64\n",
      " 22  PH Descarga                                0 non-null      float64\n",
      " 23  pH entrada a Ecualizador 1                 82013 non-null  float64\n",
      " 24  Nivel Clarificado DAF (Tk 80m3).1          0 non-null      float64\n",
      " 25  Turbidez salida DAF                        82010 non-null  float64\n",
      " 26  Caudal Descarga                            0 non-null      float64\n",
      " 27  pH salida y control Ecualizador 1          82007 non-null  float64\n",
      "dtypes: float64(27), object(1)\n",
      "memory usage: 17.6+ MB\n"
     ]
    }
   ],
   "source": [
    "planta_1 = os.path.join('Proyecto Herramienta para monitoreo de la calidad de datos', '2. Datos', 'planta_1', 'planta_1_datos.csv')\n",
    "df_planta_1 = pd.read_csv(planta_1)\n",
    "\n",
    "df_planta_1.info()"
   ]
  }
 ],
 "metadata": {
  "kernelspec": {
   "display_name": "Python 3",
   "language": "python",
   "name": "python3"
  },
  "language_info": {
   "codemirror_mode": {
    "name": "ipython",
    "version": 3
   },
   "file_extension": ".py",
   "mimetype": "text/x-python",
   "name": "python",
   "nbconvert_exporter": "python",
   "pygments_lexer": "ipython3",
   "version": "3.13.3"
  }
 },
 "nbformat": 4,
 "nbformat_minor": 5
}
