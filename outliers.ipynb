{
 "cells": [
  {
   "cell_type": "code",
   "execution_count": 1,
   "id": "34f09513",
   "metadata": {},
   "outputs": [],
   "source": [
    "import pandas as pd\n",
    "import numpy as np\n",
    "import funciones"
   ]
  },
  {
   "cell_type": "code",
   "execution_count": 3,
   "id": "7254239a",
   "metadata": {},
   "outputs": [],
   "source": [
    "# Leer los tres dataframes procesados desde la carpeta 'df_procesados'\n",
    "df_planta_1 = pd.read_csv('df_procesados/df_planta_1.csv')\n",
    "df_planta_2 = pd.read_csv('df_procesados/df_planta_2.csv')\n",
    "df_planta_3 = pd.read_csv('df_procesados/df_planta_3.csv')"
   ]
  },
  {
   "cell_type": "markdown",
   "id": "ce5d2f3a",
   "metadata": {},
   "source": [
    "# Planta 1"
   ]
  },
  {
   "cell_type": "code",
   "execution_count": null,
   "id": "271202b1",
   "metadata": {},
   "outputs": [],
   "source": [
    "num_cols = df_planta_1.select_dtypes(include=[np.number]).columns\n",
    "for col in num_cols:\n",
    "    ph = False\n",
    "\n",
    "    if 'pH' in col:\n",
    "        ph = True\n",
    "    funciones.plot_outliers(df_planta_1, col, ph = ph)"
   ]
  },
  {
   "cell_type": "markdown",
   "id": "8e2c5ee5",
   "metadata": {},
   "source": [
    "# Planta 2"
   ]
  },
  {
   "cell_type": "markdown",
   "id": "41fd081e",
   "metadata": {},
   "source": [
    "# Planta 3"
   ]
  }
 ],
 "metadata": {
  "kernelspec": {
   "display_name": "Python 3",
   "language": "python",
   "name": "python3"
  },
  "language_info": {
   "codemirror_mode": {
    "name": "ipython",
    "version": 3
   },
   "file_extension": ".py",
   "mimetype": "text/x-python",
   "name": "python",
   "nbconvert_exporter": "python",
   "pygments_lexer": "ipython3",
   "version": "3.13.3"
  }
 },
 "nbformat": 4,
 "nbformat_minor": 5
}
