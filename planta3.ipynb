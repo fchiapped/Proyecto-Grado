{
 "cells": [
  {
   "cell_type": "code",
   "execution_count": 3,
   "id": "14cee6d1",
   "metadata": {},
   "outputs": [],
   "source": [
    "import pandas as pd\n",
    "import matplotlib.pyplot as plt\n",
    "import os"
   ]
  },
  {
   "cell_type": "code",
   "execution_count": 5,
   "id": "9a07a9f5",
   "metadata": {},
   "outputs": [
    {
     "name": "stdout",
     "output_type": "stream",
     "text": [
      "<class 'pandas.core.frame.DataFrame'>\n",
      "RangeIndex: 22568 entries, 0 to 22567\n",
      "Data columns (total 8 columns):\n",
      " #   Column                                  Non-Null Count  Dtype  \n",
      "---  ------                                  --------------  -----  \n",
      " 0   date_time                               22568 non-null  object \n",
      " 1   Nivel pozo                              21829 non-null  float64\n",
      " 2   Falla Pozo                              22565 non-null  float64\n",
      " 3   Energía Total Activa Bombas Elevadoras  22350 non-null  float64\n",
      " 4   Nivel Pozo                              0 non-null      float64\n",
      " 5   Funcionando Pozo                        0 non-null      float64\n",
      " 6   Falla Asimetría Pozo                    22350 non-null  float64\n",
      " 7   Presión pozo                            22351 non-null  float64\n",
      "dtypes: float64(7), object(1)\n",
      "memory usage: 1.4+ MB\n"
     ]
    }
   ],
   "source": [
    "planta_3 = os.path.join('Proyecto Herramienta para monitoreo de la calidad de datos', '2. Datos', 'planta_3', 'planta_3_datos.csv')\n",
    "df_planta_3 = pd.read_csv(planta_3)\n",
    "df_planta_3.info()"
   ]
  }
 ],
 "metadata": {
  "kernelspec": {
   "display_name": "Python 3",
   "language": "python",
   "name": "python3"
  },
  "language_info": {
   "codemirror_mode": {
    "name": "ipython",
    "version": 3
   },
   "file_extension": ".py",
   "mimetype": "text/x-python",
   "name": "python",
   "nbconvert_exporter": "python",
   "pygments_lexer": "ipython3",
   "version": "3.13.3"
  }
 },
 "nbformat": 4,
 "nbformat_minor": 5
}
